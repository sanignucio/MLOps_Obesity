token = "write your token here"

import requests
import subprocess

url="https://mlops-obesity-00000000000000000000000000000000000.us-central1.run.app/docs"

# Cabecera del token
headers = {
    "Autorization": f"Bearer { token }"
}

# Hacer el request
response = requests.get(url, headers=headers)

# Mostrar la respuesta
print("Código de estado:", response.status_code)
print("Respuesta:", response.text)
